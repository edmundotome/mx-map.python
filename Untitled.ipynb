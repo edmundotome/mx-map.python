{
 "cells": [
  {
   "cell_type": "markdown",
   "id": "c20b193a",
   "metadata": {},
   "source": [
    "https://www.kaggle.com/samsitta/mexicostatescoordinates\n",
    "https://www.kaggle.com/wansxpha/violenca-mexico\n",
    "https://www.kaggle.com/ricfraga/mexicos-crime-incidence-by-state-2010-2018"
   ]
  },
  {
   "cell_type": "code",
   "execution_count": 5,
   "id": "3571b425",
   "metadata": {},
   "outputs": [],
   "source": [
    "import json \n",
    "import pandas as pd"
   ]
  },
  {
   "cell_type": "code",
   "execution_count": 2,
   "id": "a92b3692",
   "metadata": {},
   "outputs": [],
   "source": [
    "mexican_states = json.load(open('mexican_states.geojson','r'))"
   ]
  },
  {
   "cell_type": "code",
   "execution_count": 14,
   "id": "fbfd864f",
   "metadata": {},
   "outputs": [
    {
     "data": {
      "text/plain": [
       "{'objectid': 1111,\n",
       " 'fips_admin': 'MX08',\n",
       " 'gmi_admin': 'MEX-COL',\n",
       " 'admin_name': 'Colima',\n",
       " 'fips_cntry': 'MX',\n",
       " 'gmi_cntry': 'MEX',\n",
       " 'cntry_name': 'Mexico',\n",
       " 'pop_admin': 466124,\n",
       " 'type_eng': 'State',\n",
       " 'type_loc': 'Estado',\n",
       " 'sqkm': 5747.09,\n",
       " 'sqmi': 2218.95,\n",
       " 'color_map': '2',\n",
       " 'shape_leng': 3.20790605626,\n",
       " 'shape_area': 0.49200626453,\n",
       " 'cartodb_id': 22,\n",
       " 'created_at': '2014-08-19T17:34:57Z',\n",
       " 'updated_at': '2014-08-19T17:34:57Z'}"
      ]
     },
     "execution_count": 14,
     "metadata": {},
     "output_type": "execute_result"
    }
   ],
   "source": [
    "mexican_states['features'][2]['properties']"
   ]
  },
  {
   "cell_type": "code",
   "execution_count": 6,
   "id": "66085406",
   "metadata": {},
   "outputs": [],
   "source": [
    "df = pd.read_csv('Mexico-crimen-by-state.csv')"
   ]
  },
  {
   "cell_type": "code",
   "execution_count": 7,
   "id": "e023df07",
   "metadata": {},
   "outputs": [
    {
     "data": {
      "text/html": [
       "<div>\n",
       "<style scoped>\n",
       "    .dataframe tbody tr th:only-of-type {\n",
       "        vertical-align: middle;\n",
       "    }\n",
       "\n",
       "    .dataframe tbody tr th {\n",
       "        vertical-align: top;\n",
       "    }\n",
       "\n",
       "    .dataframe thead th {\n",
       "        text-align: right;\n",
       "    }\n",
       "</style>\n",
       "<table border=\"1\" class=\"dataframe\">\n",
       "  <thead>\n",
       "    <tr style=\"text-align: right;\">\n",
       "      <th></th>\n",
       "      <th>Entidad</th>\n",
       "      <th>2010</th>\n",
       "      <th>2011</th>\n",
       "      <th>2012</th>\n",
       "      <th>2013</th>\n",
       "      <th>2014</th>\n",
       "      <th>2015</th>\n",
       "      <th>2016</th>\n",
       "      <th>2017</th>\n",
       "      <th>2018</th>\n",
       "    </tr>\n",
       "  </thead>\n",
       "  <tbody>\n",
       "    <tr>\n",
       "      <th>0</th>\n",
       "      <td>Estados Unidos Mexicanos</td>\n",
       "      <td>30535</td>\n",
       "      <td>29200</td>\n",
       "      <td>35139</td>\n",
       "      <td>41563</td>\n",
       "      <td>41655</td>\n",
       "      <td>35497</td>\n",
       "      <td>37017</td>\n",
       "      <td>39369</td>\n",
       "      <td>37807</td>\n",
       "    </tr>\n",
       "    <tr>\n",
       "      <th>1</th>\n",
       "      <td>Aguascalientes</td>\n",
       "      <td>56089</td>\n",
       "      <td>25511</td>\n",
       "      <td>32368</td>\n",
       "      <td>24711</td>\n",
       "      <td>39453</td>\n",
       "      <td>35457</td>\n",
       "      <td>41254</td>\n",
       "      <td>39912</td>\n",
       "      <td>36500</td>\n",
       "    </tr>\n",
       "    <tr>\n",
       "      <th>2</th>\n",
       "      <td>Baja California</td>\n",
       "      <td>31791</td>\n",
       "      <td>29446</td>\n",
       "      <td>39297</td>\n",
       "      <td>57066</td>\n",
       "      <td>56632</td>\n",
       "      <td>32758</td>\n",
       "      <td>51286</td>\n",
       "      <td>43921</td>\n",
       "      <td>42725</td>\n",
       "    </tr>\n",
       "    <tr>\n",
       "      <th>3</th>\n",
       "      <td>Baja California Sur</td>\n",
       "      <td>25779</td>\n",
       "      <td>28884</td>\n",
       "      <td>31049</td>\n",
       "      <td>23747</td>\n",
       "      <td>34700</td>\n",
       "      <td>25577</td>\n",
       "      <td>29939</td>\n",
       "      <td>25690</td>\n",
       "      <td>28377</td>\n",
       "    </tr>\n",
       "    <tr>\n",
       "      <th>4</th>\n",
       "      <td>Campeche</td>\n",
       "      <td>20922</td>\n",
       "      <td>21704</td>\n",
       "      <td>29097</td>\n",
       "      <td>30597</td>\n",
       "      <td>29306</td>\n",
       "      <td>22114</td>\n",
       "      <td>28892</td>\n",
       "      <td>28283</td>\n",
       "      <td>26466</td>\n",
       "    </tr>\n",
       "  </tbody>\n",
       "</table>\n",
       "</div>"
      ],
      "text/plain": [
       "                    Entidad   2010   2011   2012   2013   2014   2015   2016  \\\n",
       "0  Estados Unidos Mexicanos  30535  29200  35139  41563  41655  35497  37017   \n",
       "1            Aguascalientes  56089  25511  32368  24711  39453  35457  41254   \n",
       "2           Baja California  31791  29446  39297  57066  56632  32758  51286   \n",
       "3       Baja California Sur  25779  28884  31049  23747  34700  25577  29939   \n",
       "4                  Campeche  20922  21704  29097  30597  29306  22114  28892   \n",
       "\n",
       "    2017   2018  \n",
       "0  39369  37807  \n",
       "1  39912  36500  \n",
       "2  43921  42725  \n",
       "3  25690  28377  \n",
       "4  28283  26466  "
      ]
     },
     "execution_count": 7,
     "metadata": {},
     "output_type": "execute_result"
    }
   ],
   "source": [
    "df.head()"
   ]
  },
  {
   "cell_type": "code",
   "execution_count": null,
   "id": "dd53eae4",
   "metadata": {},
   "outputs": [],
   "source": []
  }
 ],
 "metadata": {
  "kernelspec": {
   "display_name": "Python 3 (ipykernel)",
   "language": "python",
   "name": "python3"
  },
  "language_info": {
   "codemirror_mode": {
    "name": "ipython",
    "version": 3
   },
   "file_extension": ".py",
   "mimetype": "text/x-python",
   "name": "python",
   "nbconvert_exporter": "python",
   "pygments_lexer": "ipython3",
   "version": "3.8.12"
  }
 },
 "nbformat": 4,
 "nbformat_minor": 5
}
